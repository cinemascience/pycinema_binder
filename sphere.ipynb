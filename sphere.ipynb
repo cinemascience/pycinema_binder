{
 "cells": [
  {
   "cell_type": "code",
   "execution_count": null,
   "id": "aa0c806d",
   "metadata": {},
   "outputs": [],
   "source": [
    "import pycinema\n",
    "import matplotlib\n",
    "\n",
    "# Open Cinema Database\n",
    "cdb  = pycinema.CinemaDatabaseReader();\n",
    "cdb.inputs.Path.set( 'sphere.cdb' );\n",
    "\n",
    "# Select Some Data Products\n",
    "query = pycinema.DatabaseQuery();\n",
    "query.inputs.Table.set(cdb.outputs.Table);\n",
    "query.inputs.Query.set('SELECT * FROM input LIMIT 1 OFFSET 0');\n",
    "\n",
    "# Read Data Products\n",
    "imageReader = pycinema.ImageReader();\n",
    "imageReader.inputs.Table.set(query.outputs.Table);\n",
    "\n",
    "# Border\n",
    "border = pycinema.Border();\n",
    "border.inputs.Color.set(\"red\")\n",
    "border.inputs.Width.set(20)\n",
    "border.inputs.Images.set(imageReader.outputs.Images)\n",
    "\n",
    "# Display Results\n",
    "from IPython.display import display\n",
    "images = border.outputs.Images.get();\n",
    "for i in range(len(images)):   \n",
    "    image = images[i]\n",
    "    matplotlib.pyplot.imshow(image.channel['RGBA'])\n",
    "    matplotlib.pyplot.axis('off')\n",
    "    matplotlib.pyplot.show()"
   ]
  },
  {
   "cell_type": "code",
   "execution_count": null,
   "id": "3a8a5aca",
   "metadata": {},
   "outputs": [],
   "source": []
  }
 ],
 "metadata": {
  "kernelspec": {
   "display_name": "Python 3 (ipykernel)",
   "language": "python",
   "name": "python3"
  },
  "language_info": {
   "codemirror_mode": {
    "name": "ipython",
    "version": 3
   },
   "file_extension": ".py",
   "mimetype": "text/x-python",
   "name": "python",
   "nbconvert_exporter": "python",
   "pygments_lexer": "ipython3",
   "version": "3.9.10"
  }
 },
 "nbformat": 4,
 "nbformat_minor": 5
}
